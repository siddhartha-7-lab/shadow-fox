{
  "nbformat": 4,
  "nbformat_minor": 0,
  "metadata": {
    "colab": {
      "provenance": [],
      "authorship_tag": "ABX9TyPV1+elDC0PLARq6+5KLQFS",
      "include_colab_link": true
    },
    "kernelspec": {
      "name": "python3",
      "display_name": "Python 3"
    },
    "language_info": {
      "name": "python"
    }
  },
  "cells": [
    {
      "cell_type": "markdown",
      "metadata": {
        "id": "view-in-github",
        "colab_type": "text"
      },
      "source": [
        "<a href=\"https://colab.research.google.com/github/siddhartha-7-lab/shadow-fox/blob/main/shadowfox.ipynb\" target=\"_parent\"><img src=\"https://colab.research.google.com/assets/colab-badge.svg\" alt=\"Open In Colab\"/></a>"
      ]
    },
    {
      "cell_type": "code",
      "execution_count": 1,
      "metadata": {
        "id": "-dRpqDPMgb9s",
        "colab": {
          "base_uri": "https://localhost:8080/"
        },
        "outputId": "122fa8df-cada-4ce1-8ed3-9ebf93e264d3"
      },
      "outputs": [
        {
          "output_type": "stream",
          "name": "stdout",
          "text": [
            "Data type of pi: <class 'float'>\n",
            "'for' cannot be used as a variable name because it is a reserved keyword in Python.\n",
            "Simple Interest: 1500.0\n"
          ]
        }
      ],
      "source": [
        "#task_1_variables\n",
        "pi = 22 / 7\n",
        "print(\"Data type of pi:\", type(pi))\n",
        "# Trying to create a variable named 'for' (which is a reserved keyword in Python)\n",
        "# This will cause a SyntaxError if uncommented\n",
        "# for = 4  # SyntaxError: invalid syntax\n",
        "print(\"'for' cannot be used as a variable name because it is a reserved keyword in Python.\")\n",
        "P = 10000  # Principal amount\n",
        "R = 5      # Rate of interest (in % per annum)\n",
        "T = 3      # period in years\n",
        "Simple_Interest = (P * R * T) / 100\n",
        "# Simple Interest\n",
        "print(\"Simple Interest:\", Simple_Interest)"
      ]
    },
    {
      "cell_type": "code",
      "source": [
        "#task_1_numbers\n",
        "formatted_string = \"{0:o}\".format(145)\n",
        "print(\"Formatted string:\", formatted_string)\n",
        "radius = 84\n",
        "pi_value = 3.14\n",
        "area = pi_value * (radius ** 2)\n",
        "water_liters = int(area * 1.4)\n",
        "print(\"Total water in pond (liters):\", water_liters)\n",
        "distance = 490\n",
        "time = 7 * 60\n",
        "speed = int(distance / time)\n",
        "print(\"Speed (m/s):\", speed)\n"
      ],
      "metadata": {
        "colab": {
          "base_uri": "https://localhost:8080/"
        },
        "id": "tSuvzesAm30L",
        "outputId": "792db953-8278-4dab-b904-2df2950c9f06"
      },
      "execution_count": 2,
      "outputs": [
        {
          "output_type": "stream",
          "name": "stdout",
          "text": [
            "Formatted string: 221\n",
            "Total water in pond (liters): 31018\n",
            "Speed (m/s): 1\n"
          ]
        }
      ]
    },
    {
      "cell_type": "code",
      "source": [
        "#task_1_list\n",
        "justice_league = [\"Superman\", \"Batman\", \"Wonder Woman\", \"Flash\", \"Aquaman\", \"Green Lantern\"]\n",
        "print(\"Number of members:\", len(justice_league))\n",
        "justice_league.extend([\"Batgirl\", \"Nightwing\"])\n",
        "print(\"After adding new members:\", justice_league)\n",
        "justice_league.remove(\"Wonder Woman\")\n",
        "justice_league.insert(0, \"Wonder Woman\")\n",
        "print(\"After making Wonder Woman the leader:\", justice_league)\n",
        "justice_league.remove(\"Green Lantern\")\n",
        "justice_league.insert(justice_league.index(\"Flash\"), \"Green Lantern\")\n",
        "print(\"After separating Aquaman and Flash:\", justice_league)\n",
        "justice_league = [\"Cyborg\", \"Shazam\", \"Hawkgirl\", \"Martian Manhunter\", \"Green Arrow\"]\n",
        "print(\"New Justice League team:\", justice_league)\n",
        "justice_league.sort()\n",
        "print(\"Sorted Justice League team:\", justice_league)\n",
        "print(\"New Leader:\", justice_league[0])\n"
      ],
      "metadata": {
        "colab": {
          "base_uri": "https://localhost:8080/"
        },
        "id": "VUgvf2UVnXu9",
        "outputId": "e6d76115-618d-4e86-b179-43aa1abb71d9"
      },
      "execution_count": 3,
      "outputs": [
        {
          "output_type": "stream",
          "name": "stdout",
          "text": [
            "Number of members: 6\n",
            "After adding new members: ['Superman', 'Batman', 'Wonder Woman', 'Flash', 'Aquaman', 'Green Lantern', 'Batgirl', 'Nightwing']\n",
            "After making Wonder Woman the leader: ['Wonder Woman', 'Superman', 'Batman', 'Flash', 'Aquaman', 'Green Lantern', 'Batgirl', 'Nightwing']\n",
            "After separating Aquaman and Flash: ['Wonder Woman', 'Superman', 'Batman', 'Green Lantern', 'Flash', 'Aquaman', 'Batgirl', 'Nightwing']\n",
            "New Justice League team: ['Cyborg', 'Shazam', 'Hawkgirl', 'Martian Manhunter', 'Green Arrow']\n",
            "Sorted Justice League team: ['Cyborg', 'Green Arrow', 'Hawkgirl', 'Martian Manhunter', 'Shazam']\n",
            "New Leader: Cyborg\n"
          ]
        }
      ]
    },
    {
      "cell_type": "code",
      "source": [
        "#task_1_if_condition_BMI_CALCULATOR\n",
        "#1\n",
        "height = float(input(\"Enter height in meters: \"))\n",
        "weight = float(input(\"Enter weight in kg: \"))\n",
        "bmi = weight / (height ** 2)\n",
        "\n",
        "if bmi >= 30:\n",
        "    print(\"Obesity\")\n",
        "elif 25 <= bmi < 30:\n",
        "    print(\"Overweight\")\n",
        "elif 18.5 <= bmi < 25:\n",
        "    print(\"Normal\")\n",
        "else:\n",
        "    print(\"Underweight\")"
      ],
      "metadata": {
        "colab": {
          "base_uri": "https://localhost:8080/"
        },
        "id": "r7L3zjUJoTfg",
        "outputId": "e8bb6d45-d780-4384-d59a-b93ba2e1da57"
      },
      "execution_count": 10,
      "outputs": [
        {
          "output_type": "stream",
          "name": "stdout",
          "text": [
            "Enter height in meters: 1\n",
            "Enter weight in kg: 56\n",
            "Obesity\n"
          ]
        }
      ]
    },
    {
      "cell_type": "code",
      "source": [
        "#2\n",
        "Australia = [\"Sydney\", \"Melbourne\", \"Brisbane\", \"Perth\"]\n",
        "UAE = [\"Dubai\", \"Abu Dhabi\", \"Sharjah\", \"Ajman\"]\n",
        "India = [\"Mumbai\", \"Bangalore\", \"Chennai\", \"Delhi\"]\n",
        "def find_country(city):\n",
        "  if city in Australia:\n",
        "    return \"Australia\"\n",
        "  elif city in UAE:\n",
        "    return \"UAE\"\n",
        "  elif city in India:\n",
        "    return \"India\"\n",
        "  else:\n",
        "    return \"City not found in the database.\"\n",
        "\n",
        "city = input(\"Enter a city name: \")\n",
        "\n",
        "country = find_country(city)\n",
        "if country != \"City not found in the database.\":\n",
        "  print(city + \" is in \" + country)\n",
        "else:\n",
        "  print(country)\n",
        "city1 = input(\"Enter the first city: \")\n",
        "city2 = input(\"Enter the second city: \")\n",
        "country1 = find_country(city1)\n",
        "country2 = find_country(city2)\n",
        "if country1 == country2 and country1 != \"City not found in the database.\":\n",
        "  print(\"Both cities are in \" + country1)\n",
        "else:\n",
        "  print(\"Cities are in different countries or not found in the database.\")"
      ],
      "metadata": {
        "colab": {
          "base_uri": "https://localhost:8080/"
        },
        "id": "shpTWXzdquEe",
        "outputId": "682d5b12-6f54-46bc-963e-80f844ceab89"
      },
      "execution_count": 22,
      "outputs": [
        {
          "output_type": "stream",
          "name": "stdout",
          "text": [
            "Enter a city name: Chennai\n",
            "Chennai is in India\n",
            "Enter the first city: Mumbai\n",
            "Enter the second city: Dubai\n",
            "Cities are in different countries or not found in the database.\n"
          ]
        }
      ]
    },
    {
      "cell_type": "code",
      "source": [
        "#task_1_for_loop_ROLLING_DICE\n",
        "#1\n",
        "import random\n",
        "\n",
        "rolls = 40\n",
        "six_count = 0\n",
        "one_count = 0\n",
        "previous_roll = None\n",
        "double_six_count = 0\n",
        "\n",
        "for _ in range(rolls):\n",
        "    roll = random.randint(1, 6)\n",
        "    if roll == 6:\n",
        "        six_count += 1\n",
        "    if roll == 1:\n",
        "        one_count += 1\n",
        "    if roll == 6 and previous_roll == 6:\n",
        "        double_six_count += 1\n",
        "    previous_roll = roll\n",
        "\n",
        "print(\"Times rolled a 6:\", six_count)\n",
        "print(\"Times rolled a 1:\", one_count)\n",
        "print(\"Times rolled two 6s in a row:\", double_six_count)\n",
        "\n"
      ],
      "metadata": {
        "colab": {
          "base_uri": "https://localhost:8080/"
        },
        "id": "MtytWkdAo49d",
        "outputId": "071b87cf-44bf-422c-8aa7-19d6bb086ce1"
      },
      "execution_count": 9,
      "outputs": [
        {
          "output_type": "stream",
          "name": "stdout",
          "text": [
            "Times rolled a 6: 6\n",
            "Times rolled a 1: 3\n",
            "Times rolled two 6s in a row: 0\n"
          ]
        }
      ]
    },
    {
      "cell_type": "code",
      "source": [
        "#2\n",
        "total_jumping_jacks = 100\n",
        "jumping_jacks_per_set = 10\n",
        "completed_jumping_jacks = 0\n",
        "\n",
        "while completed_jumping_jacks < total_jumping_jacks:\n",
        "  completed_jumping_jacks += jumping_jacks_per_set\n",
        "  print(f\"You have completed {completed_jumping_jacks} jumping jacks.\")\n",
        "\n",
        "  tired = input(\"Are you tired? (yes/no): \").lower()\n",
        "\n",
        "  if tired in (\"yes\", \"y\"):\n",
        "    skip_remaining = input(\"Do you want to skip the remaining sets? (yes/no): \").lower()\n",
        "    if skip_remaining in (\"yes\", \"y\"):\n",
        "      print(f\"You completed a total of {completed_jumping_jacks} jumping jacks.\")\n",
        "      break\n",
        "    else:\n",
        "      pass\n",
        "  else:\n",
        "      remaining_jumping_jacks = total_jumping_jacks - completed_jumping_jacks\n",
        "      if remaining_jumping_jacks > 0:\n",
        "          print(f\"{remaining_jumping_jacks} jumping jacks remaining.\")\n",
        "      else:\n",
        "          pass\n",
        "\n",
        "else:\n",
        "  print(\"Congratulations! You completed the workout.\")"
      ],
      "metadata": {
        "colab": {
          "base_uri": "https://localhost:8080/"
        },
        "id": "3KNYTRSutTHp",
        "outputId": "ac1d4a34-12ba-45c4-bae6-1d0183bc5993"
      },
      "execution_count": 23,
      "outputs": [
        {
          "output_type": "stream",
          "name": "stdout",
          "text": [
            "You have completed 10 jumping jacks.\n",
            "Are you tired? (yes/no): no\n",
            "90 jumping jacks remaining.\n",
            "You have completed 20 jumping jacks.\n",
            "Are you tired? (yes/no): no\n",
            "80 jumping jacks remaining.\n",
            "You have completed 30 jumping jacks.\n",
            "Are you tired? (yes/no): yes\n",
            "Do you want to skip the remaining sets? (yes/no): no\n",
            "You have completed 40 jumping jacks.\n",
            "Are you tired? (yes/no): no\n",
            "60 jumping jacks remaining.\n",
            "You have completed 50 jumping jacks.\n",
            "Are you tired? (yes/no): no\n",
            "50 jumping jacks remaining.\n",
            "You have completed 60 jumping jacks.\n",
            "Are you tired? (yes/no): yes\n",
            "Do you want to skip the remaining sets? (yes/no): no\n",
            "You have completed 70 jumping jacks.\n",
            "Are you tired? (yes/no): no\n",
            "30 jumping jacks remaining.\n",
            "You have completed 80 jumping jacks.\n",
            "Are you tired? (yes/no): no\n",
            "20 jumping jacks remaining.\n",
            "You have completed 90 jumping jacks.\n",
            "Are you tired? (yes/no): yes\n",
            "Do you want to skip the remaining sets? (yes/no): no\n",
            "You have completed 100 jumping jacks.\n",
            "Are you tired? (yes/no): no\n",
            "Congratulations! You completed the workout.\n"
          ]
        }
      ]
    },
    {
      "cell_type": "code",
      "source": [
        "#task_2\n",
        "#1\n",
        "import requests\n",
        "from bs4 import BeautifulSoup\n",
        "\n",
        "url = \"https://soulmissionworld.org/e\"\n",
        "\n",
        "response = requests.get(url)\n",
        "\n",
        "if response.status_code == 200:\n",
        "    soup = BeautifulSoup(response.text, \"html.parser\")\n",
        "\n",
        "    links = soup.find_all(\"a\")\n",
        "\n",
        "    print(\"Extracted Links:\")\n",
        "    for link in links[:10]:\n",
        "        print(link.get(\"href\"))\n",
        "else:\n",
        "    print(\"Failed to fetch webpage. Status Code:\", response.status_code)\n",
        "\n"
      ],
      "metadata": {
        "colab": {
          "base_uri": "https://localhost:8080/"
        },
        "id": "kfI1omDvu_JZ",
        "outputId": "eee65220-e7c9-4c08-f5e1-39fb8b0faa82"
      },
      "execution_count": 29,
      "outputs": [
        {
          "output_type": "stream",
          "name": "stdout",
          "text": [
            "Failed to fetch webpage. Status Code: 404\n"
          ]
        }
      ]
    },
    {
      "cell_type": "code",
      "source": [
        "#2\n",
        "import random\n",
        "words = [\"python\", \"developer\", \"internship\", \"programming\", \"shadowfox\"]\n",
        "\n",
        "word = random.choice(words)\n",
        "hidden_word = [\"_\"] * len(word)\n",
        "attempts = 6\n",
        "guessed_letters = set()\n",
        "\n",
        "print(\"Welcome to Hangman!\")\n",
        "print(\" \".join(hidden_word))\n",
        "\n",
        "while attempts > 0 and \"_\" in hidden_word:\n",
        "    guess = input(\"Guess a letter: \").lower()\n",
        "\n",
        "    if guess in guessed_letters:\n",
        "        print(\"You already guessed that letter.\")\n",
        "        continue\n",
        "\n",
        "    guessed_letters.add(guess)\n",
        "\n",
        "    if guess in word:\n",
        "        for i, letter in enumerate(word):\n",
        "            if letter == guess:\n",
        "                hidden_word[i] = guess\n",
        "    else:\n",
        "        attempts -= 1\n",
        "        print(f\"Incorrect guess. Attempts left: {attempts}\")\n",
        "\n",
        "    print(\" \".join(hidden_word))\n",
        "\n",
        "if \"_\" not in hidden_word:\n",
        "    print(\"Congratulations! You guessed the word:\", word)\n",
        "else:\n",
        "    print(\"Game Over! The word was:\", word)\n"
      ],
      "metadata": {
        "colab": {
          "base_uri": "https://localhost:8080/"
        },
        "id": "l0kpFZNUyJe6",
        "outputId": "951ea90f-c55b-4f3e-db8c-949fad8a2ef6"
      },
      "execution_count": 31,
      "outputs": [
        {
          "output_type": "stream",
          "name": "stdout",
          "text": [
            "Welcome to Hangman!\n",
            "_ _ _ _ _ _ _ _ _ _ _\n",
            "Guess a letter: p\n",
            "p _ _ _ _ _ _ _ _ _ _\n",
            "Guess a letter: m\n",
            "p _ _ _ _ _ m m _ _ _\n",
            "Guess a letter: i\n",
            "p _ _ _ _ _ m m i _ _\n",
            "Guess a letter: n\n",
            "p _ _ _ _ _ m m i n _\n",
            "Guess a letter: g\n",
            "p _ _ g _ _ m m i n g\n",
            "Guess a letter: ro\n",
            "p _ _ g _ _ m m i n g\n",
            "Guess a letter: r\n",
            "p r _ g r _ m m i n g\n",
            "Guess a letter: o\n",
            "p r o g r _ m m i n g\n",
            "Guess a letter: a\n",
            "p r o g r a m m i n g\n",
            "Congratulations! You guessed the word: programming\n"
          ]
        }
      ]
    },
    {
      "cell_type": "code",
      "source": [],
      "metadata": {
        "id": "p1zkruDMyvfD"
      },
      "execution_count": null,
      "outputs": []
    }
  ]
}